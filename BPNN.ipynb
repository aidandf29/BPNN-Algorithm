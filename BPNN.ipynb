{
  "nbformat": 4,
  "nbformat_minor": 0,
  "metadata": {
    "colab": {
      "provenance": []
    },
    "kernelspec": {
      "name": "python3",
      "display_name": "Python 3"
    },
    "language_info": {
      "name": "python"
    }
  },
  "cells": [
    {
      "cell_type": "markdown",
      "source": [
        "\n",
        "## **BPNN**\n",
        "\n",
        "\n",
        "- M Aidan Daffa J\n"
      ],
      "metadata": {
        "id": "Uvr6EpLa5eEF"
      }
    },
    {
      "cell_type": "markdown",
      "source": [
        "[Link Google Colab](https://colab.research.google.com/drive/10_nP7kuSMH3YdlviZ-S9EUaZhrRXRVvO?usp=sharing)\n",
        "\n",
        "\n"
      ],
      "metadata": {
        "id": "AqC-tKX2Evij"
      }
    },
    {
      "cell_type": "code",
      "source": [
        "#Import Library\n",
        "import numpy as np\n",
        "from sklearn.preprocessing import OneHotEncoder\n",
        "from sklearn.model_selection import train_test_split\n",
        "import pandas as pd\n",
        "import matplotlib.pyplot as plt"
      ],
      "metadata": {
        "id": "UMujWuD94ahQ"
      },
      "execution_count": null,
      "outputs": []
    },
    {
      "cell_type": "code",
      "source": [
        "# Load Iris dataset\n",
        "column_names=[\"SepalLengthCm\", \"SepalWidthCm\", \"PetalLengthCm\", \"PetalWidthCm\", 'Species']\n",
        "df = pd.read_csv(\"https://archive.ics.uci.edu/ml/machine-learning-databases/iris/iris.data\",names=column_names)\n",
        "\n",
        "X = df[['SepalLengthCm', 'SepalWidthCm', 'PetalLengthCm', 'PetalWidthCm']]\n",
        "y = df['Species'].values.reshape(-1, 1)\n",
        "df.isnull().sum()\n"
      ],
      "metadata": {
        "colab": {
          "base_uri": "https://localhost:8080/"
        },
        "id": "BR6V9H3Z4a0E",
        "outputId": "56f8bf02-9529-4f8e-8884-647ac6b856d6"
      },
      "execution_count": null,
      "outputs": [
        {
          "output_type": "execute_result",
          "data": {
            "text/plain": [
              "SepalLengthCm    0\n",
              "SepalWidthCm     0\n",
              "PetalLengthCm    0\n",
              "PetalWidthCm     0\n",
              "Species          0\n",
              "dtype: int64"
            ]
          },
          "metadata": {},
          "execution_count": 2
        }
      ]
    },
    {
      "cell_type": "code",
      "source": [
        "# One-Hot Encoding\n",
        "encoder = OneHotEncoder(sparse=False)\n",
        "y = encoder.fit_transform(y.reshape(-1, 1))\n",
        "\n",
        "# Split dataset into train and test sets\n",
        "X_train, X_test, y_train, y_test = train_test_split(X, y, test_size=0.3)\n",
        "\n",
        "# Define the activation function (sigmoid)\n",
        "def sigmoid(x):\n",
        "    return 1 / (1 + np.exp(-x))\n",
        "\n",
        "# Define the derivative of the activation function\n",
        "def sigmoid_derivative(x):\n",
        "    return x * (1 - x)\n",
        "\n",
        "# Set the number of input, hidden, and output layers\n",
        "input_layer_neurons = X.shape[1]\n",
        "hidden_layer_neurons = 12\n",
        "output_layer_neurons = y.shape[1]"
      ],
      "metadata": {
        "colab": {
          "base_uri": "https://localhost:8080/"
        },
        "id": "KfV52goj48OK",
        "outputId": "8d1fd825-455a-43cd-a9af-f00384565ce2"
      },
      "execution_count": null,
      "outputs": [
        {
          "output_type": "stream",
          "name": "stderr",
          "text": [
            "/usr/local/lib/python3.10/dist-packages/sklearn/preprocessing/_encoders.py:868: FutureWarning: `sparse` was renamed to `sparse_output` in version 1.2 and will be removed in 1.4. `sparse_output` is ignored unless you leave `sparse` to its default value.\n",
            "  warnings.warn(\n"
          ]
        }
      ]
    },
    {
      "cell_type": "code",
      "source": [
        "print(X_train)"
      ],
      "metadata": {
        "colab": {
          "base_uri": "https://localhost:8080/"
        },
        "id": "eygZzeLIVDN0",
        "outputId": "27848a15-0fa1-45e2-b4b1-7b05a644a291"
      },
      "execution_count": null,
      "outputs": [
        {
          "output_type": "stream",
          "name": "stdout",
          "text": [
            "     SepalLengthCm  SepalWidthCm  PetalLengthCm  PetalWidthCm\n",
            "8              4.4           2.9            1.4           0.2\n",
            "88             5.6           3.0            4.1           1.3\n",
            "136            6.3           3.4            5.6           2.4\n",
            "142            5.8           2.7            5.1           1.9\n",
            "91             6.1           3.0            4.6           1.4\n",
            "..             ...           ...            ...           ...\n",
            "103            6.3           2.9            5.6           1.8\n",
            "100            6.3           3.3            6.0           2.5\n",
            "123            6.3           2.7            4.9           1.8\n",
            "128            6.4           2.8            5.6           2.1\n",
            "1              4.9           3.0            1.4           0.2\n",
            "\n",
            "[105 rows x 4 columns]\n"
          ]
        }
      ]
    },
    {
      "cell_type": "code",
      "source": [
        "\n",
        "\n",
        "# Initialize the weights and biases with random values\n",
        "hidden_weights = np.random.uniform(size=(input_layer_neurons, hidden_layer_neurons))-0.5\n",
        "hidden_bias = np.random.uniform(size=(1, hidden_layer_neurons))-0.5\n",
        "output_weights = np.random.uniform(size=(hidden_layer_neurons, output_layer_neurons))-0.5\n",
        "output_bias = np.random.uniform(size=(1, output_layer_neurons))-0.5\n",
        "\n",
        "\n",
        "print(hidden_weights)\n",
        "print(\"\\n\\n\")\n",
        "print(hidden_bias)\n",
        "print(\"\\n\\n\")\n",
        "print(output_weights)\n",
        "print(\"\\n\\n\")\n",
        "print(output_bias)"
      ],
      "metadata": {
        "colab": {
          "base_uri": "https://localhost:8080/"
        },
        "id": "fPj7zKh8x7xL",
        "outputId": "4af6c136-8bad-4527-b268-58a8728f9bdf"
      },
      "execution_count": null,
      "outputs": [
        {
          "output_type": "stream",
          "name": "stdout",
          "text": [
            "[[-0.12779104 -0.11151775 -0.27700541  0.42423934  0.08385537  0.18408538\n",
            "  -0.34258757 -0.42493713 -0.12678736  0.17581123 -0.28169948 -0.15943527]\n",
            " [ 0.3980385  -0.18817749  0.27489785  0.45069284  0.36273406  0.15009894\n",
            "  -0.38649972  0.30562501  0.30328898  0.23936689  0.42227374 -0.28387378]\n",
            " [ 0.09725929 -0.34401853 -0.44092878  0.26655097 -0.32824631  0.27945952\n",
            "  -0.2218258  -0.17239743  0.32400548 -0.41832544  0.45313609  0.39588753]\n",
            " [ 0.26527541  0.25527874 -0.03331169  0.19661323  0.29805458 -0.24301939\n",
            "  -0.08890587 -0.24052431  0.11356179 -0.0314518  -0.17534547 -0.12346896]]\n",
            "\n",
            "\n",
            "\n",
            "[[-0.17225337  0.31689284  0.24940623 -0.19172695  0.30290742  0.43045414\n",
            "  -0.31018183  0.18617776 -0.3458452   0.45590961 -0.38013547 -0.33916756]]\n",
            "\n",
            "\n",
            "\n",
            "[[ 0.02940416  0.34704888 -0.26387358]\n",
            " [-0.22989751 -0.39097106 -0.25693459]\n",
            " [-0.30913829  0.04499728 -0.1506545 ]\n",
            " [-0.18768207  0.01720962 -0.34968325]\n",
            " [ 0.05909645 -0.11676051  0.19840606]\n",
            " [ 0.26806591  0.266348    0.21056042]\n",
            " [-0.01721802  0.36737439  0.14192664]\n",
            " [ 0.41749817 -0.30964446 -0.1204774 ]\n",
            " [-0.34312622 -0.05765785 -0.48433088]\n",
            " [ 0.44781519 -0.33305094 -0.43693557]\n",
            " [-0.28331406 -0.21528694 -0.39327839]\n",
            " [ 0.39042832  0.34112659  0.27023863]]\n",
            "\n",
            "\n",
            "\n",
            "[[-0.15221939  0.37228265 -0.14297421]]\n"
          ]
        }
      ]
    },
    {
      "cell_type": "code",
      "source": [
        "# Set the number of epochs and learning rate\n",
        "epochs = 10000\n",
        "learning_rate = 0.1\n",
        "loss_threshold = 0.05\n"
      ],
      "metadata": {
        "id": "TjaSJOOg1l9I"
      },
      "execution_count": null,
      "outputs": []
    },
    {
      "cell_type": "code",
      "source": [
        "# Train the neural network\n",
        "for i in range(epochs):\n",
        "    # Forward propagation\n",
        "    hidden_layer_input = np.dot(X_train, hidden_weights)\n",
        "    hidden_layer_input += hidden_bias\n",
        "    hidden_layer_activation = sigmoid(hidden_layer_input)\n",
        "    output_layer_input = np.dot(hidden_layer_activation, output_weights)\n",
        "    output_layer_input += output_bias\n",
        "    predicted_output = sigmoid(output_layer_input)\n",
        "\n",
        "    # Compute loss\n",
        "    loss = np.mean(np.square(y_train - predicted_output))\n",
        "\n",
        "    # Check if loss has reached threshold\n",
        "    if loss < loss_threshold:\n",
        "        print(\"Training stopped at epoch:\", i+1)\n",
        "        break\n",
        "\n",
        "    # Backpropagation\n",
        "    error = y_train - predicted_output\n",
        "    d_predicted_output = error * sigmoid_derivative(predicted_output)\n",
        "    error_hidden_layer = d_predicted_output.dot(output_weights.T)\n",
        "    d_hidden_layer = error_hidden_layer * sigmoid_derivative(hidden_layer_activation)\n",
        "\n",
        "    # Updating Weights and Biases\n",
        "    output_weights += hidden_layer_activation.T.dot(d_predicted_output) * learning_rate\n",
        "    output_bias += np.sum(d_predicted_output, axis=0, keepdims=True) * learning_rate\n",
        "    hidden_weights += X_train.T.dot(d_hidden_layer) * learning_rate\n",
        "    hidden_bias += np.sum(d_hidden_layer, axis=0, keepdims=True) * learning_rate\n",
        "\n"
      ],
      "metadata": {
        "colab": {
          "base_uri": "https://localhost:8080/"
        },
        "id": "pz2iTZ7O4L5q",
        "outputId": "278d65c2-c8ba-4eb1-de57-5d65293bd21e"
      },
      "execution_count": null,
      "outputs": [
        {
          "output_type": "stream",
          "name": "stdout",
          "text": [
            "Training stopped at epoch: 4430\n"
          ]
        }
      ]
    },
    {
      "cell_type": "code",
      "source": [
        "print(output_weights)\n",
        "print(output_bias)\n",
        "print(hidden_weights)\n",
        "print(hidden_bias)"
      ],
      "metadata": {
        "colab": {
          "base_uri": "https://localhost:8080/"
        },
        "id": "kuNAH85FZowg",
        "outputId": "401a76a4-b66c-49a6-f07f-af2d2ccf45a2"
      },
      "execution_count": null,
      "outputs": [
        {
          "output_type": "stream",
          "name": "stdout",
          "text": [
            "[[ 2.06649755  2.05124911 -2.58449561]\n",
            " [-0.0251607  -0.17417694 -0.58153312]\n",
            " [ 0.13900566  0.94757637 -1.1329959 ]\n",
            " [-1.86754243 -0.95793923  1.61790127]\n",
            " [ 8.48489815 -7.05024921 -3.836506  ]\n",
            " [ 0.54364329  1.11287223 -1.60050102]\n",
            " [-1.4182161   0.03295635  0.46295716]\n",
            " [ 0.75083275 -0.0763766  -0.60888271]\n",
            " [-0.20594576  1.04121935 -1.37773399]\n",
            " [ 0.49632573 -0.7508777  -0.73728552]\n",
            " [-2.44255825 -1.06618533  2.13523638]\n",
            " [ 0.15339242  1.20047764 -0.79975969]]\n",
            "[[-2.95447672 -0.91038514  0.07438883]]\n",
            "                     0         1         2         3         4         5   \\\n",
            "SepalLengthCm  4.864306 -0.500602 -0.270607 -3.281334  0.396765 -0.179656   \n",
            "SepalWidthCm   4.191180 -0.153924  0.489033 -2.298653  2.835020  0.242568   \n",
            "PetalLengthCm -7.617434 -1.171145 -3.238449  1.858407 -4.895584 -3.087185   \n",
            "PetalWidthCm  -5.229683 -0.087734 -1.820640  1.735469 -1.806709 -2.300460   \n",
            "\n",
            "                     6         7         8         9         10        11  \n",
            "SepalLengthCm  2.420205 -1.335009  3.156344 -1.179670 -1.316674 -0.665147  \n",
            "SepalWidthCm   0.968779  0.436816  1.890916  0.177089 -1.606341 -0.329270  \n",
            "PetalLengthCm -0.907687 -2.138356 -0.586819 -2.697523  6.325751 -2.081688  \n",
            "PetalWidthCm  -1.259251 -1.044258 -1.357054 -0.923921  3.314906 -1.580082  \n",
            "[[ 1.82936676  0.29888598  0.55260129 -1.2112537   0.69512438  0.70034769\n",
            "   0.44544192  0.13531804  0.53021185  0.3299828  -1.15566036 -0.19849256]]\n"
          ]
        }
      ]
    },
    {
      "cell_type": "code",
      "source": [
        "# Test the neural network\n",
        "hidden_layer_input = np.dot(X_test, hidden_weights)\n",
        "hidden_layer_input += hidden_bias\n",
        "hidden_layer_activation = sigmoid(hidden_layer_input)\n",
        "output_layer_input = np.dot(hidden_layer_activation, output_weights)\n",
        "output_layer_input += output_bias\n",
        "predicted_output = sigmoid(output_layer_input)\n",
        "\n"
      ],
      "metadata": {
        "id": "6fxKA6tm4OMl"
      },
      "execution_count": null,
      "outputs": []
    },
    {
      "cell_type": "code",
      "source": [
        "# Compute the accuracy\n",
        "predicted_class = np.argmax(predicted_output, axis=1)\n",
        "true_class = np.argmax(y_test, axis=1)\n",
        "accuracy = np.mean(predicted_class == true_class)\n",
        "print(\"Accuracy:\", accuracy)"
      ],
      "metadata": {
        "colab": {
          "base_uri": "https://localhost:8080/"
        },
        "id": "kdoCaayW4Pf7",
        "outputId": "4e94f7ca-939c-4850-d22a-97ff373e5585"
      },
      "execution_count": null,
      "outputs": [
        {
          "output_type": "stream",
          "name": "stdout",
          "text": [
            "Accuracy: 0.9333333333333333\n"
          ]
        }
      ]
    }
  ]
}